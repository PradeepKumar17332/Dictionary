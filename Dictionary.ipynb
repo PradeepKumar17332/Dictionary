{
 "cells": [
  {
   "cell_type": "code",
   "execution_count": 7,
   "metadata": {},
   "outputs": [
    {
     "name": "stdout",
     "output_type": "stream",
     "text": [
      "Enter word: \n",
      "act\n",
      "act :\n",
      "Something done voluntarily by a person, and of such a nature that certain legal consequences attach to it.\n",
      "Legal documents, decrees, edicts, laws, judgments, etc.\n",
      "To do something.\n",
      "To perform a theatrical role.\n"
     ]
    }
   ],
   "source": [
    "import json\n",
    "import codecs\n",
    "from difflib import get_close_matches\n",
    "data=json.load(codecs.open('data.json','r','utf-8-sig'))\n",
    "\n",
    "def translate(word):\n",
    "  word=word.lower()\n",
    "  \n",
    "  if word in data:\n",
    "    return data[word]\n",
    "  elif len(get_close_matches(word,data.keys()))>0:\n",
    "    yn=input(\"Did you mean %s instead ? if YES press y else press n \"% get_close_matches(word,data.keys(),n=1))\n",
    "    if yn == \"y\":\n",
    "      return data[get_close_matches(word, data.keys())[0]]\n",
    "    else:\n",
    "      return \"word does not exist!\"\n",
    "  else :\n",
    "        return \"No such word found!\"\n",
    "print(\"Enter word: \")\n",
    "x=input()\n",
    "output =translate(x)\n",
    "\n",
    "if type(output) == list:\n",
    "    for i in output:\n",
    "      print(i)\n",
    "\n",
    "else:\n",
    "    print(output)\n"
   ]
  },
  {
   "cell_type": "code",
   "execution_count": null,
   "metadata": {},
   "outputs": [],
   "source": []
  },
  {
   "cell_type": "code",
   "execution_count": null,
   "metadata": {},
   "outputs": [],
   "source": []
  }
 ],
 "metadata": {
  "kernelspec": {
   "display_name": "Python 3",
   "language": "python",
   "name": "python3"
  },
  "language_info": {
   "codemirror_mode": {
    "name": "ipython",
    "version": 3
   },
   "file_extension": ".py",
   "mimetype": "text/x-python",
   "name": "python",
   "nbconvert_exporter": "python",
   "pygments_lexer": "ipython3",
   "version": "3.6.7"
  }
 },
 "nbformat": 4,
 "nbformat_minor": 2
}
